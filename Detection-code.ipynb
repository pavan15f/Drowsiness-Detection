{
 "cells": [
  {
   "cell_type": "code",
   "execution_count": null,
   "metadata": {},
   "outputs": [],
   "source": [
    "from keras.models import load_model\n",
    "new_model = load_model('drowsiness_model.h5')"
   ]
  },
  {
   "cell_type": "code",
   "execution_count": null,
   "metadata": {},
   "outputs": [],
   "source": [
    "new_model.summary()\n",
    "new_model.get_weights()\n",
    "new_model.optimizer"
   ]
  },
  {
   "cell_type": "code",
   "execution_count": null,
   "metadata": {},
   "outputs": [],
   "source": [
    "import matplotlib.pyplot as plt\n",
    "import matplotlib.image as mpimg\n",
    "from keras.preprocessing.image import ImageDataGenerator\n",
    "import numpy as np"
   ]
  },
  {
   "cell_type": "code",
   "execution_count": null,
   "metadata": {},
   "outputs": [],
   "source": [
    "test_path = r\"C:\\Users\\Hayavadana Sadana\\Desktop\\AAPS\\Images\\mrlEyes_2018_01\\test\"\n",
    "test_batches = ImageDataGenerator().flow_from_directory(test_path,target_size=(25,25),classes=['open','close'],batch_size=2142)"
   ]
  },
  {
   "cell_type": "code",
   "execution_count": null,
   "metadata": {},
   "outputs": [],
   "source": [
    "predictions = new_model.predict_generator(test_batches,steps=2.142,verbose=0)"
   ]
  },
  {
   "cell_type": "code",
   "execution_count": null,
   "metadata": {},
   "outputs": [],
   "source": [
    "predictions"
   ]
  },
  {
   "cell_type": "code",
   "execution_count": null,
   "metadata": {},
   "outputs": [],
   "source": [
    "for i in predictions:\n",
    "    if i[0]>i[1]:\n",
    "        i[0]= 1\n",
    "        i[1]=0\n",
    "    else:\n",
    "        i[1]=1\n",
    "        i[0]=0"
   ]
  },
  {
   "cell_type": "code",
   "execution_count": null,
   "metadata": {},
   "outputs": [],
   "source": [
    "predictions"
   ]
  },
  {
   "cell_type": "markdown",
   "metadata": {},
   "source": [
    "### check individual images and their predictions"
   ]
  },
  {
   "cell_type": "code",
   "execution_count": null,
   "metadata": {},
   "outputs": [],
   "source": [
    "test1 = test_batches[0][0][241]\n",
    "imgh = plt.imshow(test1[:, :, 0])\n",
    "test1 = np.array(test1)\n",
    "test1 = test1.reshape(1,25,25,3)\n",
    "print(new_model.predict(test1))\n",
    "print(\"open\") if new_model.predict(test1)[0][0] > new_model.predict(test1)[0][1]else print(\"close\")"
   ]
  },
  {
   "cell_type": "markdown",
   "metadata": {},
   "source": [
    "### Camera module code // prints number of closed eyes predicted"
   ]
  },
  {
   "cell_type": "code",
   "execution_count": null,
   "metadata": {},
   "outputs": [],
   "source": [
    "import subprocess\n",
    "import cv2\n",
    "eye_cascade=cv2.CascadeClassifier('haarcascade_eye-Copy1.xml')\n",
    "face_cascade=cv2.CascadeClassifier('haarcascade_frontalface_default-Copy1.xml')\n",
    "def checkme(l):\n",
    "\n",
    "    che = l[0]\n",
    "    if che[0]>che[1]:\n",
    "        \n",
    "        return 1\n",
    "    else:\n",
    "        \n",
    "        return 0\n",
    "\n",
    "    \n",
    "cap=cv2.VideoCapture(0)\n",
    "try:\n",
    "    while True:\n",
    "        no_of_eyes=0\n",
    "        closed_no=0\n",
    "        done=False\n",
    "        while no_of_eyes<25:\n",
    "            ret,img=cap.read()\n",
    "            gray=cv2.cvtColor(img,cv2.COLOR_BGR2GRAY)\n",
    "            \n",
    "            faces=face_cascade.detectMultiScale(gray,1.3,5)\n",
    "            \n",
    "            for (x,y,w,h) in faces:\n",
    "                cv2.rectangle(img,(x,y),(x+w,y+h),(0,255,0),2)\n",
    "                roi_gray=gray[y:y+h,x:x+h]\n",
    "                roi_img=img[y:y+h,x:x+h]\n",
    "                eyes=eye_cascade.detectMultiScale(roi_gray)\n",
    "                for (ex,ey,ew,eh) in eyes:\n",
    "                    \n",
    "                    \n",
    "                    no_of_eyes+=1\n",
    "                    want_img=roi_img[ey:ey+eh,ex:ex+ew]\n",
    "                    want_img=cv2.resize(want_img,(25,25))\n",
    "#                     want_img=want_img/255\n",
    "                    want_img = want_img.reshape(1,25,25,3)\n",
    "#                     want_img = np.array(want_img)\n",
    "#                     want_img = want_img/255\n",
    "#                     want_img = want_img.reshape(1,25,25,3)\n",
    "#                     print(checkme(new_model.predict(want_img)))\n",
    "                    closed_no+=1 if checkme(new_model.predict(want_img))==0  else 0\n",
    "                    \n",
    "            cv2.imshow('image',img)\n",
    "            k=cv2.waitKey(32) & 0xff\n",
    "            if k==27:\n",
    "                done=True\n",
    "                cv2.destroyAllWindows()\n",
    "                break\n",
    "        print(closed_no)\n",
    "        if closed_no>9:\n",
    "            subprocess.call(\"cscript helloi-Copy1.vbs\")\n",
    "        if done:\n",
    "            cap.release()\n",
    "            break\n",
    "except KeyboardInterrupt:\n",
    "    cv2.destroyAllWindows()\n",
    "\n",
    "    cap.release()"
   ]
  }
 ],
 "metadata": {
  "kernelspec": {
   "display_name": "Python 3",
   "language": "python",
   "name": "python3"
  },
  "language_info": {
   "codemirror_mode": {
    "name": "ipython",
    "version": 3
   },
   "file_extension": ".py",
   "mimetype": "text/x-python",
   "name": "python",
   "nbconvert_exporter": "python",
   "pygments_lexer": "ipython3",
   "version": "3.7.4"
  }
 },
 "nbformat": 4,
 "nbformat_minor": 4
}
